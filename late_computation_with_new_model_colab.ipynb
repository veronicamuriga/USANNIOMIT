{
 "cells": [
  {
   "cell_type": "code",
   "execution_count": null,
   "metadata": {},
   "outputs": [],
   "source": [
    "! pip install -q importlib rasterio\n",
    "from google.colab import drive\n",
    "drive.mount('/content/drive')\n",
    "import sys\n",
    "sys.path.append('/content/drive/MyDrive/sen2dwater/USANNIOMIT') # adjust to the correct one \n",
    "import importlib"
   ]
  },
  {
   "cell_type": "code",
   "execution_count": 1,
   "metadata": {
    "id": "h2caF77GR_cr"
   },
   "outputs": [
    {
     "name": "stderr",
     "output_type": "stream",
     "text": [
      "2023-05-28 10:32:59.306919: I tensorflow/core/platform/cpu_feature_guard.cc:193] This TensorFlow binary is optimized with oneAPI Deep Neural Network Library (oneDNN) to use the following CPU instructions in performance-critical operations:  SSE4.1 SSE4.2 AVX AVX2 FMA\n",
      "To enable them in other operations, rebuild TensorFlow with the appropriate compiler flags.\n"
     ]
    }
   ],
   "source": [
    "#!/usr/bin/env python\n",
    "# coding: utf-8\n",
    "\n",
    "from dataio.datahandler import datahandler\n",
    "from dataio.datareader import datareader\n",
    "from models.TDCNNv1 import TDCNNv1\n",
    "from config import *\n",
    "import matplotlib.pyplot as plt\n",
    "import os\n",
    "import matplotlib.pyplot as plt\n",
    "import matplotlib\n",
    "from tensorflow.keras.models import load_model\n",
    "import numpy as np\n",
    "from tensorflow.keras.models import load_model\n",
    "import sklearn.preprocessing\n",
    "%matplotlib inline \n",
    "# %matplotlib notebook \n",
    "# matplotlib.rcParams['figure.dpi']= 300\n"
   ]
  },
  {
   "cell_type": "code",
   "execution_count": null,
   "metadata": {
    "scrolled": false
   },
   "outputs": [
    {
     "name": "stdout",
     "output_type": "stream",
     "text": [
      "dataset:  1028\n",
      "batch_size:  50\n",
      "dataset:  1028\n",
      "batch_size:  50\n",
      "dataset:  1028\n",
      "batch_size:  50\n"
     ]
    },
    {
     "name": "stderr",
     "output_type": "stream",
     "text": [
      "2023-05-28 10:33:20.164365: I tensorflow/core/platform/cpu_feature_guard.cc:193] This TensorFlow binary is optimized with oneAPI Deep Neural Network Library (oneDNN) to use the following CPU instructions in performance-critical operations:  SSE4.1 SSE4.2 AVX AVX2 FMA\n",
      "To enable them in other operations, rebuild TensorFlow with the appropriate compiler flags.\n",
      "2023-05-28 10:33:20.166151: I tensorflow/core/common_runtime/process_util.cc:146] Creating new thread pool with default inter op setting: 2. Tune using inter_op_parallelism_threads for best performance.\n"
     ]
    },
    {
     "name": "stdout",
     "output_type": "stream",
     "text": [
      "2/2 [==============================] - 25s 9s/step\n"
     ]
    }
   ],
   "source": [
    "dataset_root_path = # TODO: adjust path\n",
    "dh       = datahandler(dataset_root_path)\n",
    "train_set, val_set = dh.split(SPLIT_FACTOR)\n",
    "\n",
    "\n",
    "BATCH_SIZE = 50\n",
    "SHAPE      = (128, 128)\n",
    "NORMALIZE  = True\n",
    "\n",
    "\n",
    "NDVIval2 = datareader.generatorv2('NDVI',val_set,\n",
    "                                        BATCH_SIZE,\n",
    "                                        T_LEN,\n",
    "                                        SHAPE,\n",
    "                                        normalize=NORMALIZE)\n",
    "NDWIval2 = datareader.generatorv2('NDWI',val_set,\n",
    "                                        BATCH_SIZE,\n",
    "                                        T_LEN,\n",
    "                                        SHAPE,\n",
    "                                        normalize=NORMALIZE)\n",
    "NDDIval2 = datareader.generatorv2('NDDI',val_set,\n",
    "                                        BATCH_SIZE,\n",
    "                                        T_LEN,\n",
    "                                        SHAPE,\n",
    "                                        normalize=NORMALIZE)\n",
    "\n",
    "\n",
    "\n",
    "# our trained ndwi model\n",
    "# ndwi_model = load_model('/content/drive/MyDrive/results-lenovo/ndwi_model.h5')\n",
    "\n",
    "# model from francesco\n",
    "# ndwi_model = load_model('/home/veronica/USANNIOMIT/ndwi_model2.h5')\n",
    "ndwi_model = load_model('/content/drive/MyDrive/results-lenovo2/ndwi_model2.h5')\n",
    "\n",
    "# ndvi_model = load_model('/home/veronica/USANNIOMIT/ndvi_model2.h5')\n",
    "ndvi_model = load_model('/content/drive/MyDrive/results-lenovo2/ndvi_model2.h5')\n",
    "\n",
    "# nddi_model = load_model('/home/veronica/USANNIOMIT/nddi_model.model_small_val_is_point_1.h5')\n",
    "nddi_model = load_model('/home/veronica/USANNIOMIT/nddi_model.model.h5')\n",
    "\n",
    "NDVI_input, NDVI_gt =  NDVIval2\n",
    "NDWI_input, NDWI_gt =  NDWIval2\n",
    "NDDI_input, NDDI_gt =  NDDIval2\n",
    "\n",
    "ndvi_prediction = ndvi_model.predict(NDVI_input)\n",
    "ndwi_prediction = ndwi_model.predict(NDWI_input)\n",
    "nddi_prediction = nddi_model.predict(NDDI_input)\n",
    "\n",
    "shape = nddi_prediction.shape # Batch (), Width, Height, (NDWI, NNDI or NDVI)\n",
    "\n",
    "def getNDDI(NDVI,NDWI):\n",
    "  return (NDVI-NDWI)/(NDVI+NDWI+0.1)\n",
    "\n",
    "nddi_from_NDVI_NDWI = []\n",
    "for i in range(shape[0]): # get NDDI from NDWI and NDVI\n",
    "  ndvi = ndvi_prediction[i]\n",
    "  ndwi = ndwi_prediction[i]\n",
    "  nddi_from_NDVI_NDWI.append(getNDDI(ndvi,ndwi))\n",
    "\n",
    "NDDItheoreticGT = getNDDI(NDVI_gt,NDWI_gt)\n",
    "\n",
    "\n",
    "\n"
   ]
  },
  {
   "cell_type": "code",
   "execution_count": null,
   "metadata": {
    "scrolled": false
   },
   "outputs": [],
   "source": [
    "fig, axes = plt.subplots(nrows = 2, ncols = BATCH_SIZE, figsize = (BATCH_SIZE*5,3*5))\n",
    "# font = {'family' : 'normal',\n",
    "#         'weight' : 'bold',\n",
    "#         'size'   : 22}\n",
    "\n",
    "# matplotlib.rc('font', **font)\n",
    "\n",
    "# plt.rcParams[\"font.family\"] = \"sans-serif\"\n",
    "plt.rcParams[\"font.size\"] = \"50\"\n",
    "\n",
    "for i in range(BATCH_SIZE):\n",
    "  axes[1,i].imshow(ndvi_prediction[i,:,:,0])\n",
    "  axes[0,i].imshow(NDVI_gt[i,:,:,0])\n",
    "\n",
    "  axes[1,i].set_title('Pred')\n",
    "  axes[0,i].set_title('GT')\n",
    "\n",
    "  axes[0,i].axis(False)\n",
    "  axes[1,i].axis(False)\n",
    "\n",
    "\n",
    "fig.tight_layout()\n",
    "# %matplotlib qt \n",
    "# plt.savefig('img/ndvi.png')\n",
    "# fig.savefig('ndvi.svg', format='svg', dpi=1200)\n",
    "# fig.savefig('ndvi.eps')\n",
    "plt.show()\n",
    "# plt.close()"
   ]
  },
  {
   "cell_type": "code",
   "execution_count": null,
   "metadata": {
    "scrolled": true
   },
   "outputs": [],
   "source": [
    "fig, axes = plt.subplots(nrows = 2, ncols = BATCH_SIZE, figsize = (BATCH_SIZE*5,3*5))\n",
    "for i in range(BATCH_SIZE):\n",
    "  axes[1,i].imshow(ndwi_prediction[i,:,:,0])\n",
    "  axes[0,i].imshow(NDWI_gt[i,:,:,0])\n",
    "\n",
    "  axes[1,i].set_title('Pred')\n",
    "  axes[0,i].set_title('GT')\n",
    "\n",
    "  axes[1,i].axis(False)\n",
    "  axes[0,i].axis(False)\n",
    "\n",
    "fig.tight_layout()\n",
    "# plt.savefig('img/ndwi.png')\n",
    "# fig.savefig('ndwi.svg', format='svg', dpi=1200)\n",
    "# fig.savefig('ndwi.eps')\n",
    "plt.show()\n",
    "\n",
    "\n"
   ]
  },
  {
   "cell_type": "code",
   "execution_count": null,
   "metadata": {
    "id": "6nP0kzJXoyoy"
   },
   "outputs": [],
   "source": [
    "fig, axes = plt.subplots(nrows = 3, ncols = BATCH_SIZE, figsize = (BATCH_SIZE*5,3*5))\n",
    "for i in range(BATCH_SIZE):\n",
    "#   axes[0,i].imshow(nddi_from_NDVI_NDWI[i,:,:,0])\n",
    "  axes[0,i].imshow(NDDI_gt[i,:,:,0])\n",
    "  axes[1,i].imshow(nddi_from_NDVI_NDWI[i])\n",
    "  axes[2,i].imshow(nddi_prediction[i,:,:,0])\n",
    "\n",
    "\n",
    "  axes[0,i].set_title('GT')\n",
    "  axes[1,i].set_title('Computed')\n",
    "  axes[2,i].set_title('Predicted')\n",
    "\n",
    "  axes[0,i].axis(False)\n",
    "  axes[1,i].axis(False)\n",
    "  axes[2,i].axis(False)\n",
    "\n",
    "fig.tight_layout()\n",
    "# plt.savefig('img/nddi.png')\n",
    "plt.show()\n",
    "# plt.close()"
   ]
  },
  {
   "cell_type": "code",
   "execution_count": null,
   "metadata": {},
   "outputs": [],
   "source": []
  },
  {
   "cell_type": "code",
   "execution_count": null,
   "metadata": {
    "id": "Ns2tnOCavwvU"
   },
   "outputs": [],
   "source": []
  },
  {
   "cell_type": "code",
   "execution_count": null,
   "metadata": {
    "id": "leEeejxzwI_Q"
   },
   "outputs": [],
   "source": []
  }
 ],
 "metadata": {
  "accelerator": "GPU",
  "colab": {
   "provenance": []
  },
  "gpuClass": "standard",
  "kernelspec": {
   "display_name": "Python 3 (ipykernel)",
   "language": "python",
   "name": "python3"
  },
  "language_info": {
   "codemirror_mode": {
    "name": "ipython",
    "version": 3
   },
   "file_extension": ".py",
   "mimetype": "text/x-python",
   "name": "python",
   "nbconvert_exporter": "python",
   "pygments_lexer": "ipython3",
   "version": "3.10.9"
  },
  "vscode": {
   "interpreter": {
    "hash": "aee8b7b246df8f9039afb4144a1f6fd8d2ca17a180786b69acc140d282b71a49"
   }
  }
 },
 "nbformat": 4,
 "nbformat_minor": 1
}
